{
 "cells": [
  {
   "cell_type": "code",
   "execution_count": 1,
   "metadata": {},
   "outputs": [
    {
     "data": {
      "image/png": "[encoded data removed]",
      "text/plain": [
       "<Figure size 432x288 with 1 Axes>"
      ]
     },
     "metadata": {
      "needs_background": "light"
     },
     "output_type": "display_data"
    }
   ],
   "source": [
    "%matplotlib inline\n",
    "\n",
    "import numpy as np\n",
    "from datetime import datetime, timedelta\n",
    "from matplotlib import pyplot as plt\n",
    "import matplotlib.dates\n",
    "\n",
    "# clear axis\n",
    "plt.cla()\n",
    "\n",
    "# clear figure\n",
    "plt.clf()\n",
    "\n",
    "\n",
    "# get the current time\n",
    "now = datetime.utcnow().timestamp()\n",
    "\n",
    "# create a list of datetime objects from 'n days past' to yesterday\n",
    "def createdayseries(n):\n",
    "\n",
    "    # 86400 is the number of seconds in a day\n",
    "    # np.floor is using only the year/month/day part of date2num which also has an hour/minute/second/... part\n",
    "    # matplotlib.dates.date2num converts a DateTime object to a matplotlib number\n",
    "    # datetime.fromtimestamp creates a DateTime object given an integer of seconds lapsed since epoch\n",
    "    days = [np.floor(matplotlib.dates.date2num(datetime.fromtimestamp( now - (x * 86400) ) ) ) for x in range(n+1,1,-1)]\n",
    "\n",
    "    return days\n",
    "\n",
    "\n",
    "days = createdayseries(7)\n",
    "\n",
    "# get the current figure\n",
    "fig = plt.gcf()\n",
    "\n",
    "# get the current axes\n",
    "axes = plt.gca()\n",
    "\n",
    "# disable autoscaling\n",
    "axes.autoscale(enable=False, axis='both')\n",
    "\n",
    "\n",
    "# x axis\n",
    "\n",
    "axes.set_xticklabels([matplotlib.dates.num2date(x).date() for x in days])\n",
    "\n",
    "axes.set_xticks(days)\n",
    "\n",
    "axes.set_xbound(days[0], days[-1])\n",
    "\n",
    "axes.tick_params(axis='x', direction='inout', rotation=45, grid_alpha=0.75, grid_linewidth=2)\n",
    "\n",
    "axes.grid(b=True, axis='x')\n",
    "\n",
    "\n",
    "\n",
    "# y axis\n",
    "\n",
    "axes.set_yticklabels([0,1,2,3,4,5,6,7])\n",
    "\n",
    "axes.set_yticks([0,1,2,3,4,5,6,7])\n",
    "\n",
    "axes.set_ybound(0, 7)\n",
    "\n",
    "axes.tick_params(axis='y', direction='inout', rotation=45, grid_alpha=0.75, grid_linewidth=2)\n",
    "\n",
    "axes.grid(b=True, axis='y')\n",
    "\n",
    "\n",
    "\n",
    "# do plotting\n",
    "\n",
    "plt.plot(days,[1,2,1,4,5,6,7])\n",
    "\n",
    "plt.show()\n",
    "\n",
    "\n",
    "# Note: This could be another method for graphing dates, but this example is using numbers and not DateTime objects\n",
    "# axes.xaxis_date()\n",
    "\n",
    "\n"
   ]
  },
  {
   "cell_type": "code",
   "execution_count": null,
   "metadata": {},
   "outputs": [],
   "source": []
  }
 ],
 "metadata": {
  "kernelspec": {
   "display_name": "Python 3",
   "language": "python",
   "name": "python3"
  },
  "language_info": {
   "codemirror_mode": {
    "name": "ipython",
    "version": 3
   },
   "file_extension": ".py",
   "mimetype": "text/x-python",
   "name": "python",
   "nbconvert_exporter": "python",
   "pygments_lexer": "ipython3",
   "version": "3.6.6"
  }
 },
 "nbformat": 4,
 "nbformat_minor": 2
}
